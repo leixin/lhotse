{
 "cells": [
  {
   "cell_type": "markdown",
   "metadata": {},
   "source": [
    "# Audio data preparation from zero to PyTorch's DataLoader"
   ]
  },
  {
   "cell_type": "code",
   "execution_count": 1,
   "metadata": {},
   "outputs": [],
   "source": [
    "import pandas as pd\n",
    "import matplotlib.pyplot as plt\n",
    "\n",
    "from lhotse import WavAugmenter, CutSet, Fbank, FbankConfig\n",
    "from lhotse.recipes.librispeech import download_and_untar, prepare_librispeech"
   ]
  },
  {
   "cell_type": "markdown",
   "metadata": {},
   "source": [
    "## Getting mini LibriSpeech and creating manifests"
   ]
  },
  {
   "cell_type": "code",
   "execution_count": 2,
   "metadata": {},
   "outputs": [],
   "source": [
    "download_and_untar('data')"
   ]
  },
  {
   "cell_type": "code",
   "execution_count": 3,
   "metadata": {},
   "outputs": [],
   "source": [
    "manifests = prepare_librispeech('data/LibriSpeech')\n",
    "train = manifests['train-clean-5']\n",
    "dev = manifests['dev-clean-2']"
   ]
  },
  {
   "cell_type": "markdown",
   "metadata": {},
   "source": [
    "## Creating the Cuts\n",
    "\n",
    "### First, we create the \"starting point\" cut sets - i.e. cuts that actually span full recordings."
   ]
  },
  {
   "cell_type": "code",
   "execution_count": 4,
   "metadata": {},
   "outputs": [],
   "source": [
    "train_cuts = CutSet.from_manifests(recordings=train['recordings'], supervisions=train['supervisions'])\n",
    "dev_cuts = CutSet.from_manifests(recordings=dev['recordings'], supervisions=dev['supervisions'])"
   ]
  },
  {
   "cell_type": "markdown",
   "metadata": {},
   "source": [
    "### We can see the cut durations are far from equal - we'd like to use 5 second long cuts for this experiment."
   ]
  },
  {
   "cell_type": "code",
   "execution_count": 5,
   "metadata": {},
   "outputs": [
    {
     "data": {
      "text/plain": [
       "<matplotlib.axes._subplots.AxesSubplot at 0x7f8990e359d0>"
      ]
     },
     "execution_count": 5,
     "metadata": {},
     "output_type": "execute_result"
    },
    {
     "data": {
      "image/png": "[encoded data removed]",
      "text/plain": [
       "<Figure size 432x288 with 1 Axes>"
      ]
     },
     "metadata": {
      "needs_background": "light"
     },
     "output_type": "display_data"
    }
   ],
   "source": [
    "pd.Series(c.duration for c in train_cuts).hist()"
   ]
  },
  {
   "cell_type": "markdown",
   "metadata": {},
   "source": [
    "### We can cut the longer recordings into 5 second cuts by traversing them in windows; the left-over portion of the recording might still be shorter, so we will pad it with silence to 5 seconds."
   ]
  },
  {
   "cell_type": "code",
   "execution_count": 6,
   "metadata": {},
   "outputs": [
    {
     "data": {
      "text/plain": [
       "(1519, 4571)"
      ]
     },
     "execution_count": 6,
     "metadata": {},
     "output_type": "execute_result"
    }
   ],
   "source": [
    "train_cuts_filt = train_cuts.cut_into_windows(5).pad(5)\n",
    "assert all(cut.duration == 5 for cut in train_cuts_filt)\n",
    "len(train_cuts), len(train_cuts_filt)"
   ]
  },
  {
   "cell_type": "markdown",
   "metadata": {},
   "source": [
    "### Let's create a simple dataset for our very specific task - classification whether an audio clip has been reverberated."
   ]
  },
  {
   "cell_type": "code",
   "execution_count": 7,
   "metadata": {},
   "outputs": [],
   "source": [
    "import torch\n",
    "import random\n",
    "\n",
    "class ReverbDetectionDataset(torch.utils.data.Dataset):\n",
    "    def __init__(self, cuts):\n",
    "        self.cuts = cuts\n",
    "        self.cut_ids = list(cuts.ids)\n",
    "        self.extractor = Fbank(FbankConfig(num_mel_bins=80))\n",
    "        self.augmenter = WavAugmenter.create_predefined('reverb', cuts[0].sampling_rate)\n",
    "\n",
    "    def __getitem__(self, idx):\n",
    "        cut = self.cuts[self.cut_ids[idx]]\n",
    "        augment = random.choice([0, 1])\n",
    "        feats = cut.compute_features(self.extractor, self.augmenter if augment else None)\n",
    "        return torch.from_numpy(feats), float(augment)\n",
    "    \n",
    "    def __len__(self):\n",
    "        return len(self.cuts)"
   ]
  },
  {
   "cell_type": "markdown",
   "metadata": {},
   "source": [
    "### Creating the DataLoader is very simple - no collate_fn is needed at all, since we used CutSet's capabilities to bring the data to equal length."
   ]
  },
  {
   "cell_type": "code",
   "execution_count": 8,
   "metadata": {},
   "outputs": [],
   "source": [
    "train_dset = ReverbDetectionDataset(train_cuts_filt)\n",
    "val_dset = ReverbDetectionDataset(dev_cuts)\n",
    "\n",
    "train_dloader = torch.utils.data.DataLoader(train_dset, batch_size=8, shuffle=True, num_workers=2)\n",
    "val_dloader = torch.utils.data.DataLoader(val_dset, batch_size=1, num_workers=1)"
   ]
  },
  {
   "cell_type": "code",
   "execution_count": 9,
   "metadata": {},
   "outputs": [
    {
     "name": "stdout",
     "output_type": "stream",
     "text": [
      "Training DataLoader shapes:\n",
      "torch.Size([8, 500, 80]) torch.Size([8])\n",
      "tensor([1., 1., 0., 1., 0., 1., 0., 0.], dtype=torch.float64)\n",
      "Dev DataLoader shapes:\n",
      "torch.Size([1, 1166, 80]) torch.Size([1])\n"
     ]
    }
   ],
   "source": [
    "for feats, targets in train_dloader:\n",
    "    print('Training DataLoader shapes:')\n",
    "    print(feats.shape, targets.shape)\n",
    "    print(targets)\n",
    "    break\n",
    "    \n",
    "for feats, targets in val_dloader:\n",
    "    print('Dev DataLoader shapes:')\n",
    "    print(feats.shape, targets.shape)\n",
    "    break"
   ]
  },
  {
   "cell_type": "code",
   "execution_count": null,
   "metadata": {},
   "outputs": [],
   "source": []
  }
 ],
 "metadata": {
  "kernelspec": {
   "display_name": "Python 3",
   "language": "python",
   "name": "python3"
  },
  "language_info": {
   "codemirror_mode": {
    "name": "ipython",
    "version": 3
   },
   "file_extension": ".py",
   "mimetype": "text/x-python",
   "name": "python",
   "nbconvert_exporter": "python",
   "pygments_lexer": "ipython3",
   "version": "3.7.7"
  }
 },
 "nbformat": 4,
 "nbformat_minor": 4
}